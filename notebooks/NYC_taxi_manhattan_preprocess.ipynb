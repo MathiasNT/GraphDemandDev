{
 "cells": [
  {
   "cell_type": "markdown",
   "metadata": {},
   "source": [
    "# NYC Yellow Taxi preprocessing notebook\n",
    "This notebook preprocesses the NYC Yellow taxi data from 2018-2019. The preprocessing removes faulty data and outliers and aggregates the taxi logs into hourly per zone aggregates of pickups and dropoffs. The notebook creates two datasets:\n",
    "* A two year dataset of the data from january 2018 to december 2019\n",
    "* A 10 months dataset of the 10 first months of 2018. This dataset is used in the paper.\n",
    "\n",
    "The Notebook also creates the necessary priors matrices for the NRI and preprocesses the weather data using the package Meteostat"
   ]
  },
  {
   "cell_type": "markdown",
   "metadata": {
    "id": "DKgO7yUcHaf1"
   },
   "source": [
    "### Imports"
   ]
  },
  {
   "cell_type": "code",
   "execution_count": 1,
   "metadata": {},
   "outputs": [],
   "source": [
    "%load_ext autoreload\n",
    "%autoreload 2"
   ]
  },
  {
   "cell_type": "code",
   "execution_count": 2,
   "metadata": {},
   "outputs": [],
   "source": [
    "import pandas as pd\n",
    "import geopandas as gpd\n",
    "import numpy as np\n",
    "import matplotlib.pyplot as plt\n"
   ]
  },
  {
   "cell_type": "code",
   "execution_count": 3,
   "metadata": {
    "colab": {
     "base_uri": "https://localhost:8080/"
    },
    "id": "Q1QIzyyl_rTR",
    "outputId": "a80da594-6890-4cd7-9545-59327e35fc4e"
   },
   "outputs": [],
   "source": [
    "import sys\n",
    "dataset_folder = f'../../datafolder/rawdata/taxi'\n",
    "shapefile_folder = f'{dataset_folder}/shapefiles'\n",
    "proc_data_folder = f'../../datafolder/procdata/taxi_data/full_manhattan' # Full manhattan because previous experiments used a subset of zones.\n",
    "sys.path.append('../') # Change this for the path to your folder, however this should work\n",
    "\n",
    "from GraphTrafficLib.utils.data_preprocess import preprocess_NYC_borough_dropoff, preprocess_NYC_borough_pickup\n",
    "from GraphTrafficLib.utils.adjacancy_matrix_generators import dtw_adj_generator, get_local_adj_matrix"
   ]
  },
  {
   "cell_type": "markdown",
   "metadata": {
    "id": "HyfycuPNBa0j"
   },
   "source": [
    "### Load metadata"
   ]
  },
  {
   "cell_type": "code",
   "execution_count": 4,
   "metadata": {
    "id": "QrpSy4pBBcHh"
   },
   "outputs": [],
   "source": [
    "NYC_shapefile = f'{shapefile_folder}/taxi_zones.shp'\n",
    "shp = gpd.read_file(NYC_shapefile)\n",
    "manhattan_ids = shp.loc[shp.borough == \"Manhattan\"].LocationID\n",
    "EWR_ids = shp.loc[shp.borough == \"EWR\"].LocationID # Small airport area with 1 zone\n",
    "queens_ids = shp.loc[shp.borough == \"Queens\"].LocationID\n",
    "bronx_ids = shp.loc[shp.borough == \"Bronx\"].LocationID\n",
    "brooklyn_ids = shp.loc[shp.borough == \"Brooklyn\"].LocationID\n",
    "staten_ids = shp.loc[shp.borough == \"Staten Island\"].LocationID"
   ]
  },
  {
   "cell_type": "code",
   "execution_count": 5,
   "metadata": {
    "id": "6TPnTiz4vS0w"
   },
   "outputs": [],
   "source": [
    "# Some hardcoded clean up of weird zones\n",
    "manhattan_ids = manhattan_ids.loc[manhattan_ids != 103]\n",
    "queens_ids = queens_ids.loc[(queens_ids != 30) & (queens_ids != 2) & (queens_ids != 27)].unique()\n",
    "bronx_ids = bronx_ids.loc[(bronx_ids != 199)].unique()"
   ]
  },
  {
   "cell_type": "markdown",
   "metadata": {},
   "source": [
    "### Data file strings and load dtype settings"
   ]
  },
  {
   "cell_type": "code",
   "execution_count": 6,
   "metadata": {},
   "outputs": [],
   "source": [
    "# 2018 data files\n",
    "NYC_2018_filenames = [f\"yellow_tripdata_2018-0{i}.csv\" for i in range(1,10)]\n",
    "NYC_2018_filenames2 = [f\"yellow_tripdata_2018-{i}.csv\" for i in range(10,13)]\n",
    "NYC_2018_filenames = NYC_2018_filenames + NYC_2018_filenames2\n",
    "file_paths_2018 = [f'{dataset_folder}/2018/{filename}' for filename in NYC_2018_filenames]\n",
    "\n",
    "# 2019 data files\n",
    "NYC_filenames = [f\"yellow_tripdata_2019-0{i}.csv\" for i in range(1,10)]\n",
    "NYC_filenames2 = [f\"yellow_tripdata_2019-{i}.csv\" for i in range(10,13)]\n",
    "NYC_filenames = NYC_filenames + NYC_filenames2\n",
    "file_paths_2019 = [f'{dataset_folder}/2019/{filename}' for filename in NYC_filenames]\n",
    "\n",
    "file_paths = file_paths_2018 + file_paths_2019"
   ]
  },
  {
   "cell_type": "code",
   "execution_count": 7,
   "metadata": {},
   "outputs": [],
   "source": [
    "# As we do not need the precision of 64 bits we change the precision to 32 bits for all numerical columns\n",
    "important_cols = [\"tpep_pickup_datetime\", \"tpep_dropoff_datetime\", \"trip_distance\", \"PULocationID\", \"DOLocationID\", \"fare_amount\"]\n",
    "df_test = pd.read_csv(file_paths[0], nrows=100, usecols=important_cols)\n",
    "\n",
    "float_cols = [c for c in df_test if df_test[c].dtype == \"float64\"]\n",
    "float32_cols = {c: np.float32 for c in float_cols}\n",
    "\n",
    "int_cols = [c for c in df_test if df_test[c].dtype == \"int64\"]\n",
    "int32_cols = {c: np.int32 for c in int_cols}\n",
    "\n",
    "dtype_cols = {**int32_cols, **float32_cols}"
   ]
  },
  {
   "cell_type": "markdown",
   "metadata": {},
   "source": [
    "## Preprocess data for full 2 year dataset"
   ]
  },
  {
   "cell_type": "code",
   "execution_count": 8,
   "metadata": {},
   "outputs": [
    {
     "name": "stdout",
     "output_type": "stream",
     "text": [
      "../../datafolder/rawdata/taxi/2019/yellow_tripdata_2019-01.csv done, added (66, 744) to df\n",
      "../../datafolder/rawdata/taxi/2019/yellow_tripdata_2019-02.csv done, added (66, 672) to df\n",
      "../../datafolder/rawdata/taxi/2019/yellow_tripdata_2019-03.csv done, added (66, 744) to df\n",
      "../../datafolder/rawdata/taxi/2019/yellow_tripdata_2019-04.csv done, added (66, 720) to df\n",
      "../../datafolder/rawdata/taxi/2019/yellow_tripdata_2019-05.csv done, added (66, 744) to df\n",
      "../../datafolder/rawdata/taxi/2019/yellow_tripdata_2019-06.csv done, added (66, 720) to df\n",
      "../../datafolder/rawdata/taxi/2019/yellow_tripdata_2019-07.csv done, added (66, 744) to df\n",
      "../../datafolder/rawdata/taxi/2019/yellow_tripdata_2019-08.csv done, added (66, 744) to df\n",
      "../../datafolder/rawdata/taxi/2019/yellow_tripdata_2019-09.csv done, added (66, 720) to df\n",
      "../../datafolder/rawdata/taxi/2019/yellow_tripdata_2019-10.csv done, added (66, 744) to df\n",
      "../../datafolder/rawdata/taxi/2019/yellow_tripdata_2019-11.csv done, added (66, 720) to df\n",
      "../../datafolder/rawdata/taxi/2019/yellow_tripdata_2019-12.csv done, added (66, 744) to df\n"
     ]
    }
   ],
   "source": [
    "pickup_2019, full_time_list_2019 = preprocess_NYC_borough_pickup(file_paths=file_paths_2019, location_ids=manhattan_ids)"
   ]
  },
  {
   "cell_type": "code",
   "execution_count": 9,
   "metadata": {},
   "outputs": [
    {
     "name": "stdout",
     "output_type": "stream",
     "text": [
      "../../datafolder/rawdata/taxi/2019/yellow_tripdata_2019-01.csv done, added (66, 744) to df\n",
      "../../datafolder/rawdata/taxi/2019/yellow_tripdata_2019-02.csv done, added (66, 672) to df\n",
      "../../datafolder/rawdata/taxi/2019/yellow_tripdata_2019-03.csv done, added (66, 744) to df\n",
      "../../datafolder/rawdata/taxi/2019/yellow_tripdata_2019-04.csv done, added (66, 720) to df\n",
      "../../datafolder/rawdata/taxi/2019/yellow_tripdata_2019-05.csv done, added (66, 744) to df\n",
      "../../datafolder/rawdata/taxi/2019/yellow_tripdata_2019-06.csv done, added (66, 720) to df\n",
      "../../datafolder/rawdata/taxi/2019/yellow_tripdata_2019-07.csv done, added (66, 744) to df\n",
      "../../datafolder/rawdata/taxi/2019/yellow_tripdata_2019-08.csv done, added (66, 744) to df\n",
      "../../datafolder/rawdata/taxi/2019/yellow_tripdata_2019-09.csv done, added (66, 720) to df\n",
      "../../datafolder/rawdata/taxi/2019/yellow_tripdata_2019-10.csv done, added (66, 744) to df\n",
      "../../datafolder/rawdata/taxi/2019/yellow_tripdata_2019-11.csv done, added (66, 720) to df\n",
      "../../datafolder/rawdata/taxi/2019/yellow_tripdata_2019-12.csv done, added (66, 744) to df\n"
     ]
    }
   ],
   "source": [
    "dropoff_2019, full_time_list_2019 = preprocess_NYC_borough_dropoff(file_paths=file_paths_2019, location_ids=manhattan_ids)"
   ]
  },
  {
   "cell_type": "code",
   "execution_count": 10,
   "metadata": {},
   "outputs": [],
   "source": [
    "full_data_2019 = np.stack([pickup_2019, dropoff_2019], axis=-1)"
   ]
  },
  {
   "cell_type": "code",
   "execution_count": 11,
   "metadata": {},
   "outputs": [
    {
     "name": "stdout",
     "output_type": "stream",
     "text": [
      "../../datafolder/rawdata/taxi/2018/yellow_tripdata_2018-01.csv done, added (66, 744) to df\n",
      "../../datafolder/rawdata/taxi/2018/yellow_tripdata_2018-02.csv done, added (66, 672) to df\n",
      "../../datafolder/rawdata/taxi/2018/yellow_tripdata_2018-03.csv done, added (66, 744) to df\n",
      "../../datafolder/rawdata/taxi/2018/yellow_tripdata_2018-04.csv done, added (66, 720) to df\n",
      "../../datafolder/rawdata/taxi/2018/yellow_tripdata_2018-05.csv done, added (66, 744) to df\n",
      "../../datafolder/rawdata/taxi/2018/yellow_tripdata_2018-06.csv done, added (66, 720) to df\n",
      "../../datafolder/rawdata/taxi/2018/yellow_tripdata_2018-07.csv done, added (66, 744) to df\n",
      "../../datafolder/rawdata/taxi/2018/yellow_tripdata_2018-08.csv done, added (66, 744) to df\n",
      "../../datafolder/rawdata/taxi/2018/yellow_tripdata_2018-09.csv done, added (66, 720) to df\n",
      "../../datafolder/rawdata/taxi/2018/yellow_tripdata_2018-10.csv done, added (66, 744) to df\n",
      "../../datafolder/rawdata/taxi/2018/yellow_tripdata_2018-11.csv done, added (66, 720) to df\n",
      "../../datafolder/rawdata/taxi/2018/yellow_tripdata_2018-12.csv done, added (66, 744) to df\n"
     ]
    }
   ],
   "source": [
    "pickup_2018, full_time_list_2018 = preprocess_NYC_borough_pickup(file_paths=file_paths_2018, location_ids=manhattan_ids, year=2018)"
   ]
  },
  {
   "cell_type": "code",
   "execution_count": 12,
   "metadata": {},
   "outputs": [
    {
     "name": "stdout",
     "output_type": "stream",
     "text": [
      "../../datafolder/rawdata/taxi/2018/yellow_tripdata_2018-01.csv done, added (66, 744) to df\n",
      "../../datafolder/rawdata/taxi/2018/yellow_tripdata_2018-02.csv done, added (66, 672) to df\n",
      "../../datafolder/rawdata/taxi/2018/yellow_tripdata_2018-03.csv done, added (66, 744) to df\n",
      "../../datafolder/rawdata/taxi/2018/yellow_tripdata_2018-04.csv done, added (66, 720) to df\n",
      "../../datafolder/rawdata/taxi/2018/yellow_tripdata_2018-05.csv done, added (66, 744) to df\n",
      "../../datafolder/rawdata/taxi/2018/yellow_tripdata_2018-06.csv done, added (66, 720) to df\n",
      "../../datafolder/rawdata/taxi/2018/yellow_tripdata_2018-07.csv done, added (66, 744) to df\n",
      "../../datafolder/rawdata/taxi/2018/yellow_tripdata_2018-08.csv done, added (66, 744) to df\n",
      "../../datafolder/rawdata/taxi/2018/yellow_tripdata_2018-09.csv done, added (66, 720) to df\n",
      "../../datafolder/rawdata/taxi/2018/yellow_tripdata_2018-10.csv done, added (66, 744) to df\n",
      "../../datafolder/rawdata/taxi/2018/yellow_tripdata_2018-11.csv done, added (66, 720) to df\n",
      "../../datafolder/rawdata/taxi/2018/yellow_tripdata_2018-12.csv done, added (66, 744) to df\n"
     ]
    }
   ],
   "source": [
    "dropoff_2018, full_time_list_2018 = preprocess_NYC_borough_dropoff(file_paths=file_paths_2018, location_ids=manhattan_ids, year=2018)"
   ]
  },
  {
   "cell_type": "code",
   "execution_count": 13,
   "metadata": {},
   "outputs": [],
   "source": [
    "# collect the data\n",
    "full_data_2018 = np.stack([pickup_2018, dropoff_2018], axis=-1)\n",
    "full_data = np.concatenate([full_data_2018, full_data_2019], 1)\n",
    "full_time_list = full_time_list_2018.union(full_time_list_2019)"
   ]
  },
  {
   "cell_type": "code",
   "execution_count": 14,
   "metadata": {},
   "outputs": [],
   "source": [
    "# Save the data\n",
    "\n",
    "np.save(f'{proc_data_folder}/twoyear_full_manhattan_2d.npy', full_data)\n",
    "np.save(f'{proc_data_folder}/twoyear_time_list.npy', full_time_list)"
   ]
  },
  {
   "cell_type": "markdown",
   "metadata": {},
   "source": [
    "# Dataset without november and december"
   ]
  },
  {
   "cell_type": "code",
   "execution_count": 15,
   "metadata": {},
   "outputs": [],
   "source": [
    "short_2019 = file_paths_2019[:10]"
   ]
  },
  {
   "cell_type": "code",
   "execution_count": 16,
   "metadata": {},
   "outputs": [
    {
     "name": "stdout",
     "output_type": "stream",
     "text": [
      "../../datafolder/rawdata/taxi/2019/yellow_tripdata_2019-01.csv done, added (66, 744) to df\n",
      "../../datafolder/rawdata/taxi/2019/yellow_tripdata_2019-02.csv done, added (66, 672) to df\n",
      "../../datafolder/rawdata/taxi/2019/yellow_tripdata_2019-03.csv done, added (66, 744) to df\n",
      "../../datafolder/rawdata/taxi/2019/yellow_tripdata_2019-04.csv done, added (66, 720) to df\n",
      "../../datafolder/rawdata/taxi/2019/yellow_tripdata_2019-05.csv done, added (66, 744) to df\n",
      "../../datafolder/rawdata/taxi/2019/yellow_tripdata_2019-06.csv done, added (66, 720) to df\n",
      "../../datafolder/rawdata/taxi/2019/yellow_tripdata_2019-07.csv done, added (66, 744) to df\n",
      "../../datafolder/rawdata/taxi/2019/yellow_tripdata_2019-08.csv done, added (66, 744) to df\n",
      "../../datafolder/rawdata/taxi/2019/yellow_tripdata_2019-09.csv done, added (66, 720) to df\n",
      "../../datafolder/rawdata/taxi/2019/yellow_tripdata_2019-10.csv done, added (66, 744) to df\n"
     ]
    }
   ],
   "source": [
    "pickup_short_2019, short_time_list_2019 = preprocess_NYC_borough_pickup(file_paths=short_2019, location_ids=manhattan_ids)"
   ]
  },
  {
   "cell_type": "code",
   "execution_count": 17,
   "metadata": {},
   "outputs": [
    {
     "name": "stdout",
     "output_type": "stream",
     "text": [
      "../../datafolder/rawdata/taxi/2019/yellow_tripdata_2019-01.csv done, added (66, 744) to df\n",
      "../../datafolder/rawdata/taxi/2019/yellow_tripdata_2019-02.csv done, added (66, 672) to df\n",
      "../../datafolder/rawdata/taxi/2019/yellow_tripdata_2019-03.csv done, added (66, 744) to df\n",
      "../../datafolder/rawdata/taxi/2019/yellow_tripdata_2019-04.csv done, added (66, 720) to df\n",
      "../../datafolder/rawdata/taxi/2019/yellow_tripdata_2019-05.csv done, added (66, 744) to df\n",
      "../../datafolder/rawdata/taxi/2019/yellow_tripdata_2019-06.csv done, added (66, 720) to df\n",
      "../../datafolder/rawdata/taxi/2019/yellow_tripdata_2019-07.csv done, added (66, 744) to df\n",
      "../../datafolder/rawdata/taxi/2019/yellow_tripdata_2019-08.csv done, added (66, 744) to df\n",
      "../../datafolder/rawdata/taxi/2019/yellow_tripdata_2019-09.csv done, added (66, 720) to df\n",
      "../../datafolder/rawdata/taxi/2019/yellow_tripdata_2019-10.csv done, added (66, 744) to df\n"
     ]
    }
   ],
   "source": [
    "dropoff_short_2019, short_time_list_2019 = preprocess_NYC_borough_dropoff(file_paths=short_2019, location_ids=manhattan_ids)"
   ]
  },
  {
   "cell_type": "code",
   "execution_count": 18,
   "metadata": {},
   "outputs": [],
   "source": [
    "short_data_2019 = np.stack([pickup_short_2019, dropoff_short_2019], axis=-1)"
   ]
  },
  {
   "cell_type": "code",
   "execution_count": 19,
   "metadata": {},
   "outputs": [],
   "source": [
    "# Save the data\n",
    "np.save(f'{proc_data_folder}/short_year_full_manhattan_2d.npy', short_data_2019)\n"
   ]
  },
  {
   "cell_type": "code",
   "execution_count": 14,
   "metadata": {},
   "outputs": [],
   "source": [
    "import h5py"
   ]
  },
  {
   "cell_type": "code",
   "execution_count": 28,
   "metadata": {},
   "outputs": [],
   "source": [
    "# Creating H5 version for CGC baseline\n",
    "\n",
    "hf = h5py.File(f'{proc_data_folder}/taxishort_data.h5', 'w')\n",
    "hf.create_dataset('taxishort_drop', data=dropoff_short_2019.T)\n",
    "hf.create_dataset('taxishort_pick', data=pickup_short_2019.T)\n",
    "hf.close()"
   ]
  },
  {
   "cell_type": "markdown",
   "metadata": {},
   "source": [
    "# Short dataset of only 1 month"
   ]
  },
  {
   "cell_type": "code",
   "execution_count": 8,
   "metadata": {},
   "outputs": [],
   "source": [
    "# Only use 1 month for the low data volume experiment\n",
    "month_2019 = file_paths_2019[0:1]"
   ]
  },
  {
   "cell_type": "code",
   "execution_count": 9,
   "metadata": {},
   "outputs": [
    {
     "name": "stdout",
     "output_type": "stream",
     "text": [
      "../../datafolder/rawdata/taxi/2019/yellow_tripdata_2019-01.csv done, added (66, 744) to df\n"
     ]
    }
   ],
   "source": [
    "pickup_month_2019, month_time_list_2019 = preprocess_NYC_borough_pickup(file_paths=month_2019, location_ids=manhattan_ids)"
   ]
  },
  {
   "cell_type": "code",
   "execution_count": 10,
   "metadata": {},
   "outputs": [
    {
     "name": "stdout",
     "output_type": "stream",
     "text": [
      "../../datafolder/rawdata/taxi/2019/yellow_tripdata_2019-01.csv done, added (66, 744) to df\n"
     ]
    }
   ],
   "source": [
    "dropoff_month_2019, month_time_list_2019 = preprocess_NYC_borough_dropoff(file_paths=month_2019, location_ids=manhattan_ids)"
   ]
  },
  {
   "cell_type": "code",
   "execution_count": 11,
   "metadata": {},
   "outputs": [],
   "source": [
    "month_data_2019 = np.stack([pickup_month_2019, dropoff_month_2019], axis=-1)"
   ]
  },
  {
   "cell_type": "code",
   "execution_count": 12,
   "metadata": {},
   "outputs": [],
   "source": [
    "# Save the data\n",
    "np.save(f'{proc_data_folder}/month_full_manhattan_2d.npy', month_data_2019)\n"
   ]
  },
  {
   "cell_type": "code",
   "execution_count": 15,
   "metadata": {},
   "outputs": [],
   "source": [
    "# Creating H5 version for CGC baseline\n",
    "\n",
    "hf = h5py.File(f'{proc_data_folder}/taximonth_data.h5', 'w')\n",
    "hf.create_dataset('taximonth_drop', data=dropoff_month_2019.T)\n",
    "hf.create_dataset('taximonth_pick', data=pickup_month_2019.T)\n",
    "hf.close()"
   ]
  },
  {
   "cell_type": "markdown",
   "metadata": {},
   "source": [
    "# Evenshorter dataset of only 2 weeks"
   ]
  },
  {
   "cell_type": "markdown",
   "metadata": {},
   "source": [
    "### DTW Adj"
   ]
  },
  {
   "cell_type": "markdown",
   "metadata": {},
   "source": [
    "#### Short year version"
   ]
  },
  {
   "cell_type": "code",
   "execution_count": 20,
   "metadata": {},
   "outputs": [
    {
     "ename": "NameError",
     "evalue": "name 'short_data_2019' is not defined",
     "output_type": "error",
     "traceback": [
      "\u001b[0;31m---------------------------------------------------------------------------\u001b[0m",
      "\u001b[0;31mNameError\u001b[0m                                 Traceback (most recent call last)",
      "\u001b[0;32m/tmp/ipykernel_3842542/1583524819.py\u001b[0m in \u001b[0;36m<module>\u001b[0;34m\u001b[0m\n\u001b[1;32m      1\u001b[0m \u001b[0;31m# Make DTW adj for prior\u001b[0m\u001b[0;34m\u001b[0m\u001b[0;34m\u001b[0m\u001b[0;34m\u001b[0m\u001b[0m\n\u001b[0;32m----> 2\u001b[0;31m \u001b[0mtrain_steps\u001b[0m \u001b[0;34m=\u001b[0m \u001b[0mint\u001b[0m\u001b[0;34m(\u001b[0m\u001b[0;36m0.8\u001b[0m \u001b[0;34m*\u001b[0m \u001b[0mshort_data_2019\u001b[0m\u001b[0;34m.\u001b[0m\u001b[0mshape\u001b[0m\u001b[0;34m[\u001b[0m\u001b[0;36m1\u001b[0m\u001b[0;34m]\u001b[0m\u001b[0;34m)\u001b[0m\u001b[0;34m\u001b[0m\u001b[0;34m\u001b[0m\u001b[0m\n\u001b[0m\u001b[1;32m      3\u001b[0m \u001b[0mdtw_adj\u001b[0m \u001b[0;34m=\u001b[0m \u001b[0mdtw_adj_generator\u001b[0m\u001b[0;34m(\u001b[0m\u001b[0mshort_data_2019\u001b[0m\u001b[0;34m,\u001b[0m \u001b[0mtrain_steps\u001b[0m\u001b[0;34m)\u001b[0m\u001b[0;34m\u001b[0m\u001b[0;34m\u001b[0m\u001b[0m\n",
      "\u001b[0;31mNameError\u001b[0m: name 'short_data_2019' is not defined"
     ]
    }
   ],
   "source": [
    "# Make DTW adj for prior\n",
    "train_steps = int(0.8 * short_data_2019.shape[1])\n",
    "dtw_adj = dtw_adj_generator(short_data_2019, train_steps)"
   ]
  },
  {
   "cell_type": "code",
   "execution_count": 51,
   "metadata": {},
   "outputs": [
    {
     "data": {
      "text/plain": [
       "<matplotlib.image.AxesImage at 0x7f32551387c0>"
      ]
     },
     "execution_count": 51,
     "metadata": {},
     "output_type": "execute_result"
    },
    {
     "data": {
      "image/png": "[encoded data removed]",
      "text/plain": [
       "<Figure size 432x288 with 1 Axes>"
      ]
     },
     "metadata": {
      "needs_background": "light"
     },
     "output_type": "display_data"
    }
   ],
   "source": [
    "plt.imshow(dtw_adj)"
   ]
  },
  {
   "cell_type": "code",
   "execution_count": 52,
   "metadata": {},
   "outputs": [],
   "source": [
    "pickle_path_full_manhattan_short_year_dtw_adj = f\"{proc_data_folder}/short_year_train_full_manhattan_dtw_adj.npy\"\n",
    "np.save(pickle_path_full_manhattan_short_year_dtw_adj, dtw_adj)"
   ]
  },
  {
   "cell_type": "code",
   "execution_count": 53,
   "metadata": {},
   "outputs": [],
   "source": [
    "# Discretize the DTW adj for fixed adj graph\n",
    "dtw_adj_bin = dtw_adj > np.quantile(dtw_adj, 0.9)"
   ]
  },
  {
   "cell_type": "code",
   "execution_count": 54,
   "metadata": {},
   "outputs": [
    {
     "data": {
      "text/plain": [
       "<matplotlib.image.AxesImage at 0x7f32faf14d60>"
      ]
     },
     "execution_count": 54,
     "metadata": {},
     "output_type": "execute_result"
    },
    {
     "data": {
      "image/png": "[encoded data removed]",
      "text/plain": [
       "<Figure size 432x288 with 1 Axes>"
      ]
     },
     "metadata": {
      "needs_background": "light"
     },
     "output_type": "display_data"
    }
   ],
   "source": [
    "plt.imshow(dtw_adj_bin)"
   ]
  },
  {
   "cell_type": "code",
   "execution_count": 55,
   "metadata": {},
   "outputs": [],
   "source": [
    "pickle_path_full_manhattan_short_year_dtw_adj_bin = f\"{proc_data_folder}/short_year_train_full_manhattan_dtw_adj_bin.npy\"\n",
    "np.save(pickle_path_full_manhattan_short_year_dtw_adj_bin, dtw_adj_bin)"
   ]
  },
  {
   "cell_type": "markdown",
   "metadata": {},
   "source": [
    "#### month version"
   ]
  },
  {
   "cell_type": "code",
   "execution_count": 21,
   "metadata": {},
   "outputs": [
    {
     "name": "stderr",
     "output_type": "stream",
     "text": [
      "100%|███████████████████████████████████████████████████████████████████| 66/66 [00:18<00:00,  3.64it/s]\n"
     ]
    }
   ],
   "source": [
    "# Make DTW adj for prior\n",
    "train_steps = int(0.8 * month_data_2019.shape[1])\n",
    "month_dtw_adj = dtw_adj_generator(month_data_2019, train_steps)"
   ]
  },
  {
   "cell_type": "code",
   "execution_count": 22,
   "metadata": {},
   "outputs": [
    {
     "data": {
      "text/plain": [
       "<matplotlib.image.AxesImage at 0x7f4b1779d4c0>"
      ]
     },
     "execution_count": 22,
     "metadata": {},
     "output_type": "execute_result"
    },
    {
     "data": {
      "image/png": "[encoded data removed]",
      "text/plain": [
       "<Figure size 432x288 with 1 Axes>"
      ]
     },
     "metadata": {
      "needs_background": "light"
     },
     "output_type": "display_data"
    }
   ],
   "source": [
    "plt.imshow(month_dtw_adj)"
   ]
  },
  {
   "cell_type": "code",
   "execution_count": 23,
   "metadata": {},
   "outputs": [],
   "source": [
    "pickle_path_full_manhattan_month_dtw_adj = f\"{proc_data_folder}/month_train_full_manhattan_dtw_adj.npy\"\n",
    "np.save(pickle_path_full_manhattan_month_dtw_adj, month_dtw_adj)"
   ]
  },
  {
   "cell_type": "code",
   "execution_count": 24,
   "metadata": {},
   "outputs": [],
   "source": [
    "# Discretize the DTW adj for fixed adj graph\n",
    "month_dtw_adj_bin = month_dtw_adj > np.quantile(month_dtw_adj, 0.9)"
   ]
  },
  {
   "cell_type": "code",
   "execution_count": 25,
   "metadata": {},
   "outputs": [
    {
     "data": {
      "text/plain": [
       "<matplotlib.image.AxesImage at 0x7f497e3dfe20>"
      ]
     },
     "execution_count": 25,
     "metadata": {},
     "output_type": "execute_result"
    },
    {
     "data": {
      "image/png": "[encoded data removed]",
      "text/plain": [
       "<Figure size 432x288 with 1 Axes>"
      ]
     },
     "metadata": {
      "needs_background": "light"
     },
     "output_type": "display_data"
    }
   ],
   "source": [
    "plt.imshow(month_dtw_adj_bin)"
   ]
  },
  {
   "cell_type": "code",
   "execution_count": 26,
   "metadata": {},
   "outputs": [],
   "source": [
    "pickle_path_full_manhattan_month_dtw_adj_bin = f\"{proc_data_folder}/month_train_full_manhattan_dtw_adj_bin.npy\"\n",
    "np.save(pickle_path_full_manhattan_month_dtw_adj_bin, month_dtw_adj_bin)"
   ]
  },
  {
   "cell_type": "markdown",
   "metadata": {},
   "source": [
    "#### Week vers"
   ]
  },
  {
   "cell_type": "code",
   "execution_count": 28,
   "metadata": {},
   "outputs": [
    {
     "name": "stderr",
     "output_type": "stream",
     "text": [
      "100%|███████████████████████████████████████████████████████████████████| 66/66 [00:05<00:00, 11.91it/s]\n"
     ]
    }
   ],
   "source": [
    "# Make DTW adj for prior\n",
    "train_steps = int(0.24 * month_data_2019.shape[1])\n",
    "week_dtw_adj = dtw_adj_generator(month_data_2019, train_steps)"
   ]
  },
  {
   "cell_type": "code",
   "execution_count": 29,
   "metadata": {},
   "outputs": [
    {
     "data": {
      "text/plain": [
       "<matplotlib.image.AxesImage at 0x7f4b150d1eb0>"
      ]
     },
     "execution_count": 29,
     "metadata": {},
     "output_type": "execute_result"
    },
    {
     "data": {
      "image/png": "[encoded data removed]",
      "text/plain": [
       "<Figure size 432x288 with 1 Axes>"
      ]
     },
     "metadata": {
      "needs_background": "light"
     },
     "output_type": "display_data"
    }
   ],
   "source": [
    "plt.imshow(week_dtw_adj)"
   ]
  },
  {
   "cell_type": "code",
   "execution_count": 30,
   "metadata": {},
   "outputs": [],
   "source": [
    "pickle_path_full_manhattan_week_dtw_adj = f\"{proc_data_folder}/week_train_full_manhattan_dtw_adj.npy\"\n",
    "np.save(pickle_path_full_manhattan_week_dtw_adj, week_dtw_adj)"
   ]
  },
  {
   "cell_type": "code",
   "execution_count": 31,
   "metadata": {},
   "outputs": [],
   "source": [
    "# Discretize the DTW adj for fixed adj graph\n",
    "week_dtw_adj_bin = week_dtw_adj > np.quantile(week_dtw_adj, 0.9)"
   ]
  },
  {
   "cell_type": "code",
   "execution_count": 32,
   "metadata": {},
   "outputs": [
    {
     "data": {
      "text/plain": [
       "<matplotlib.image.AxesImage at 0x7f4b1c2afbe0>"
      ]
     },
     "execution_count": 32,
     "metadata": {},
     "output_type": "execute_result"
    },
    {
     "data": {
      "image/png": "[encoded data removed]",
      "text/plain": [
       "<Figure size 432x288 with 1 Axes>"
      ]
     },
     "metadata": {
      "needs_background": "light"
     },
     "output_type": "display_data"
    }
   ],
   "source": [
    "plt.imshow(month_dtw_adj_bin)"
   ]
  },
  {
   "cell_type": "code",
   "execution_count": 33,
   "metadata": {},
   "outputs": [],
   "source": [
    "pickle_path_full_manhattan_week_dtw_adj_bin = f\"{proc_data_folder}/week_train_full_manhattan_dtw_adj_bin.npy\"\n",
    "np.save(pickle_path_full_manhattan_week_dtw_adj_bin, week_dtw_adj_bin)"
   ]
  },
  {
   "cell_type": "code",
   "execution_count": null,
   "metadata": {},
   "outputs": [],
   "source": []
  },
  {
   "cell_type": "code",
   "execution_count": null,
   "metadata": {},
   "outputs": [],
   "source": []
  },
  {
   "cell_type": "markdown",
   "metadata": {},
   "source": [
    "### Local Adj"
   ]
  },
  {
   "cell_type": "code",
   "execution_count": 56,
   "metadata": {},
   "outputs": [],
   "source": [
    "# Create local adj matrix based on shapefile\n",
    "manhattan_shp = shp.loc[shp.LocationID.isin(manhattan_ids)]"
   ]
  },
  {
   "cell_type": "code",
   "execution_count": 57,
   "metadata": {},
   "outputs": [],
   "source": [
    "local_adj = get_local_adj_matrix(manhattan_shp.reset_index(drop=True))"
   ]
  },
  {
   "cell_type": "code",
   "execution_count": 58,
   "metadata": {},
   "outputs": [
    {
     "data": {
      "text/plain": [
       "<matplotlib.image.AxesImage at 0x7f3407efaf70>"
      ]
     },
     "execution_count": 58,
     "metadata": {},
     "output_type": "execute_result"
    },
    {
     "data": {
      "image/png": "[encoded data removed]",
      "text/plain": [
       "<Figure size 432x288 with 1 Axes>"
      ]
     },
     "metadata": {
      "needs_background": "light"
     },
     "output_type": "display_data"
    }
   ],
   "source": [
    "plt.imshow(local_adj)"
   ]
  },
  {
   "cell_type": "code",
   "execution_count": 59,
   "metadata": {},
   "outputs": [],
   "source": [
    "pickle_path_full_manhattan_full_year_local_adj = f\"{proc_data_folder}/full_year_full_manhattan_local_adj\"\n",
    "np.save(pickle_path_full_manhattan_full_year_local_adj, local_adj)"
   ]
  },
  {
   "cell_type": "markdown",
   "metadata": {},
   "source": [
    "## Empty adj"
   ]
  },
  {
   "cell_type": "code",
   "execution_count": 60,
   "metadata": {},
   "outputs": [],
   "source": [
    "# Create empty adj\n",
    "n_nodes = len(manhattan_shp)\n",
    "empty_adj = np.zeros([n_nodes, n_nodes])"
   ]
  },
  {
   "cell_type": "code",
   "execution_count": 61,
   "metadata": {},
   "outputs": [
    {
     "data": {
      "text/plain": [
       "array([[0., 0., 0., ..., 0., 0., 0.],\n",
       "       [0., 0., 0., ..., 0., 0., 0.],\n",
       "       [0., 0., 0., ..., 0., 0., 0.],\n",
       "       ...,\n",
       "       [0., 0., 0., ..., 0., 0., 0.],\n",
       "       [0., 0., 0., ..., 0., 0., 0.],\n",
       "       [0., 0., 0., ..., 0., 0., 0.]])"
      ]
     },
     "execution_count": 61,
     "metadata": {},
     "output_type": "execute_result"
    }
   ],
   "source": [
    "empty_adj"
   ]
  },
  {
   "cell_type": "code",
   "execution_count": 62,
   "metadata": {},
   "outputs": [
    {
     "data": {
      "text/plain": [
       "<matplotlib.image.AxesImage at 0x7f3266b4ed30>"
      ]
     },
     "execution_count": 62,
     "metadata": {},
     "output_type": "execute_result"
    },
    {
     "data": {
      "image/png": "[encoded data removed]",
      "text/plain": [
       "<Figure size 432x288 with 1 Axes>"
      ]
     },
     "metadata": {
      "needs_background": "light"
     },
     "output_type": "display_data"
    }
   ],
   "source": [
    "plt.imshow(empty_adj)"
   ]
  },
  {
   "cell_type": "code",
   "execution_count": 63,
   "metadata": {},
   "outputs": [],
   "source": [
    "np.save(f\"{proc_data_folder}/empty_adj.npy\", empty_adj)"
   ]
  },
  {
   "cell_type": "markdown",
   "metadata": {},
   "source": [
    "## Full adj"
   ]
  },
  {
   "cell_type": "code",
   "execution_count": 64,
   "metadata": {},
   "outputs": [],
   "source": [
    "#Create full adj\n",
    "full_adj = np.ones([n_nodes, n_nodes]) - np.eye(n_nodes)"
   ]
  },
  {
   "cell_type": "code",
   "execution_count": 65,
   "metadata": {},
   "outputs": [
    {
     "data": {
      "text/plain": [
       "<matplotlib.image.AxesImage at 0x7f321e2430d0>"
      ]
     },
     "execution_count": 65,
     "metadata": {},
     "output_type": "execute_result"
    },
    {
     "data": {
      "image/png": "[encoded data removed]",
      "text/plain": [
       "<Figure size 432x288 with 1 Axes>"
      ]
     },
     "metadata": {
      "needs_background": "light"
     },
     "output_type": "display_data"
    }
   ],
   "source": [
    "plt.imshow(full_adj)"
   ]
  },
  {
   "cell_type": "code",
   "execution_count": 66,
   "metadata": {},
   "outputs": [],
   "source": [
    "np.save(f\"{proc_data_folder}/full_adj.npy\", full_adj)"
   ]
  },
  {
   "cell_type": "markdown",
   "metadata": {},
   "source": [
    "## Create weather data"
   ]
  },
  {
   "cell_type": "code",
   "execution_count": 67,
   "metadata": {},
   "outputs": [],
   "source": [
    "import meteostat\n",
    "from datetime import datetime, timedelta"
   ]
  },
  {
   "cell_type": "code",
   "execution_count": 68,
   "metadata": {},
   "outputs": [],
   "source": [
    "two_year_data = np.load(f'{proc_data_folder}/twoyear_full_manhattan_2d.npy')"
   ]
  },
  {
   "cell_type": "code",
   "execution_count": 69,
   "metadata": {},
   "outputs": [],
   "source": [
    "start = datetime(2018, 1, 1)\n",
    "end = start + timedelta(hours=two_year_data.shape[1])"
   ]
  },
  {
   "cell_type": "code",
   "execution_count": 70,
   "metadata": {},
   "outputs": [],
   "source": [
    "# IDs of the airports around NYC\n",
    "LaGuardia = 72503\n",
    "NewArk = 72502\n",
    "JFK = 74486"
   ]
  },
  {
   "cell_type": "code",
   "execution_count": 80,
   "metadata": {},
   "outputs": [],
   "source": [
    "LaGuardiaData = meteostat.Hourly(LaGuardia, start, end)\n",
    "LaGuardiaData = LaGuardiaData.fetch()[:-1]\n",
    "LaGuardiaData.prcp.interpolate(inplace=True)\n",
    "LaGuardiaData.prcp.iloc[0] = 0"
   ]
  },
  {
   "cell_type": "code",
   "execution_count": 81,
   "metadata": {},
   "outputs": [],
   "source": [
    "NewArkData = meteostat.Hourly(NewArk, start, end)\n",
    "NewArkData = NewArkData.fetch()[:-1]\n",
    "NewArkData.prcp.interpolate(inplace=True)\n",
    "NewArkData.prcp.iloc[0] = 0"
   ]
  },
  {
   "cell_type": "code",
   "execution_count": 82,
   "metadata": {},
   "outputs": [],
   "source": [
    "JFKData = meteostat.Hourly(JFK, start, end)\n",
    "JFKData = JFKData.fetch()[:-1]\n",
    "JFKData.prcp.interpolate(inplace=True)\n",
    "JFKData.prcp.iloc[0] = 0"
   ]
  },
  {
   "cell_type": "code",
   "execution_count": 83,
   "metadata": {},
   "outputs": [],
   "source": [
    "airport_mean_prcp = (LaGuardiaData.prcp.values + NewArkData.prcp.values + JFKData.prcp.values) / 3\n",
    "airport_mean_temp = (LaGuardiaData.temp.values + NewArkData.temp.values + JFKData.temp.values) / 3\n",
    "mean_weather_df = pd.DataFrame(np.array([airport_mean_prcp, airport_mean_temp]).T, columns=[\"precipDepth\", \"temperature\"])\n",
    "mean_weather_df = mean_weather_df.set_index(JFKData.index)"
   ]
  },
  {
   "cell_type": "code",
   "execution_count": 84,
   "metadata": {},
   "outputs": [
    {
     "data": {
      "text/plain": [
       "<AxesSubplot:xlabel='time'>"
      ]
     },
     "execution_count": 84,
     "metadata": {},
     "output_type": "execute_result"
    },
    {
     "data": {
      "image/png": "[encoded data removed]",
      "text/plain": [
       "<Figure size 432x288 with 1 Axes>"
      ]
     },
     "metadata": {
      "needs_background": "light"
     },
     "output_type": "display_data"
    }
   ],
   "source": [
    "mean_weather_df.plot(y=['temperature'])"
   ]
  },
  {
   "cell_type": "code",
   "execution_count": 85,
   "metadata": {},
   "outputs": [
    {
     "data": {
      "text/plain": [
       "<AxesSubplot:xlabel='time'>"
      ]
     },
     "execution_count": 85,
     "metadata": {},
     "output_type": "execute_result"
    },
    {
     "data": {
      "image/png": "[encoded data removed]",
      "text/plain": [
       "<Figure size 432x288 with 1 Axes>"
      ]
     },
     "metadata": {
      "needs_background": "light"
     },
     "output_type": "display_data"
    }
   ],
   "source": [
    "mean_weather_df.plot(y=['precipDepth'])"
   ]
  },
  {
   "cell_type": "code",
   "execution_count": 86,
   "metadata": {},
   "outputs": [],
   "source": [
    "mean_weather_df.to_csv(f\"{proc_data_folder}/../mean_airport_weather.csv\")\n",
    "mean_weather_2019 = mean_weather_df.loc[mean_weather_df.index > datetime(2018, 12, 31, 23)]\n",
    "mean_weather_2019.to_csv(f\"{proc_data_folder}/../mean_airport_weather_2019.csv\")"
   ]
  }
 ],
 "metadata": {
  "colab": {
   "collapsed_sections": [
    "y_XminkmspYc",
    "7fExe6pSoVEP",
    "8JhajoW4ytOx",
    "e01PEaUEzpIO",
    "xvlzJjPZ4yaw"
   ],
   "name": "NYC_Y_T_preprocess_zone_data.ipynb",
   "provenance": []
  },
  "interpreter": {
   "hash": "29b416ecd8748a3b0dda30948c0361362aace320304d37fbbf7add4576fe3643"
  },
  "kernelspec": {
   "display_name": "Python 3 (ipykernel)",
   "language": "python",
   "name": "python3"
  },
  "language_info": {
   "codemirror_mode": {
    "name": "ipython",
    "version": 3
   },
   "file_extension": ".py",
   "mimetype": "text/x-python",
   "name": "python",
   "nbconvert_exporter": "python",
   "pygments_lexer": "ipython3",
   "version": "3.8.10"
  }
 },
 "nbformat": 4,
 "nbformat_minor": 4
}
